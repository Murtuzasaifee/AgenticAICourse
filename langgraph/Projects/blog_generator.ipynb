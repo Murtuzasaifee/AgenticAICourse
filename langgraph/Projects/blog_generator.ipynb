{
 "cells": [
  {
   "cell_type": "code",
   "execution_count": 74,
   "metadata": {},
   "outputs": [
    {
     "data": {
      "text/plain": [
       "AIMessage(content='Hello! How can I assist you today?', additional_kwargs={}, response_metadata={'token_usage': {'completion_tokens': 10, 'prompt_tokens': 30, 'total_tokens': 40, 'completion_time': 0.05, 'prompt_time': 0.003682899, 'queue_time': 0.09588796599999999, 'total_time': 0.053682899}, 'model_name': 'qwen-2.5-32b', 'system_fingerprint': 'fp_c527211fd1', 'finish_reason': 'stop', 'logprobs': None}, id='run-db8c50bc-066a-429f-ae10-74d6f1caa155-0', usage_metadata={'input_tokens': 30, 'output_tokens': 10, 'total_tokens': 40})"
      ]
     },
     "execution_count": 74,
     "metadata": {},
     "output_type": "execute_result"
    }
   ],
   "source": [
    "from dotenv import load_dotenv\n",
    "load_dotenv()\n",
    "import os\n",
    "\n",
    "from langchain_groq import ChatGroq\n",
    "\n",
    "\n",
    "#os.environ[\"OPENAI_API_KEY\"]=os.getenv(\"OPENAI_API_KEY\")\n",
    "os.environ[\"GROQ_API_KEY\"]=os.getenv(\"GROQ_API_KEY\")\n",
    "\n",
    "\n",
    "llm=ChatGroq(model=\"qwen-2.5-32b\")\n",
    "#llm = ChatOpenAI(model=\"gpt-4o\")\n",
    "result=llm.invoke(\"Hello\")\n",
    "result\n"
   ]
  },
  {
   "cell_type": "code",
   "execution_count": 75,
   "metadata": {},
   "outputs": [],
   "source": [
    "from typing_extensions import TypedDict\n",
    "from pydantic import BaseModel\n",
    "from langgraph.graph import add_messages\n",
    "from typing import Annotated, List, Dict, Any\n",
    "\n",
    "class BlogState(TypedDict):\n",
    "    topic: str\n",
    "    title: str\n",
    "    blog_content: Annotated[List, add_messages]\n",
    "    reviewed_content: Annotated[List, add_messages]\n",
    "    is_blog_ready: str"
   ]
  },
  {
   "cell_type": "code",
   "execution_count": null,
   "metadata": {},
   "outputs": [],
   "source": [
    "from langchain_core.messages import AIMessage, HumanMessage, SystemMessage\n",
    "\n",
    "def generate_title(state: BlogState):\n",
    "    prompt = f\"\"\"Generate compelling blog title option about {state[\"topic\"]} that is:\n",
    "    - SEO-friendly\n",
    "    - Attention-grabbing\n",
    "    - Topic-agnostic (works for multiple niches)\n",
    "    - Between 6-12 words\n",
    "    \"\"\"\n",
    "    \n",
    "    response = llm.invoke(prompt)\n",
    "    return {\"title\": response.content}\n",
    "\n",
    "def generate_content(state: BlogState):\n",
    "    prompt = f\"\"\"Write a comprehensive blog post titled \"{state[\"title\"]}\" with:\n",
    "    1. Engaging introduction with hook\n",
    "    2. 3-5 subheadings with detailed content\n",
    "    3. Practical examples/statistics\n",
    "    4. Clear transitions between sections\n",
    "    5. Actionable conclusion\n",
    "    Style: Professional yet conversational (Flesch-Kincaid 60-70)\n",
    "    Length: 1500-2000 words\"\"\"\n",
    "    \n",
    "    response = llm.invoke(prompt)\n",
    "    return {\"blog_content\": response.content}\n",
    "\n",
    "def review_content(state: BlogState):\n",
    "    prompt = f\"\"\"Critically review this blog content (scale 1-10):\n",
    "    - Clarity & Structure\n",
    "    - Grammar & Style\n",
    "    - SEO optimization\n",
    "    - Reader engagement\n",
    "    Provide specific improvement suggestions. Content:\\n{state[\"blog_content\"]}\"\"\"\n",
    "    \n",
    "    feedback = llm.invoke(prompt)\n",
    "    \n",
    "    return {\"reviewed_content\": feedback.content}\n",
    "\n",
    "def evaluate_content(state: BlogState):\n",
    "\n",
    "    # Create evaluation prompt\n",
    "    prompt = f\"\"\"Evaluate blog content against editorial feedback (Pass/Fail):\n",
    "    \n",
    "    Original Blog Content:\n",
    "    {state[\"blog_content\"]}\n",
    "\n",
    "    Editor Feedback:\n",
    "    {state[\"reviewed_content\"]}\n",
    "\n",
    "    Evaluation Criteria:\n",
    "    1. Coherent structure (logical flow between sections)\n",
    "    2. Grammar/mechanics (no errors in spelling/punctuation)\n",
    "    3. Brief compliance (matches topic: {state[\"topic\"]})\n",
    "    4. Engagement factors (storytelling, examples, hooks)\n",
    "    5. Formatting (proper headers, lists, whitespace)\n",
    "    6. Feedback addressed (revisions based on editor comments)\n",
    "\n",
    "    Final Verdict (Pass = meets all criteria, Fail = any major issues):\n",
    "    Answer only Pass or Fail:\"\"\"\n",
    "\n",
    "    # Get LLM response\n",
    "    response = llm.invoke(prompt)\n",
    "    verdict = response.content.strip().upper()\n",
    "    \n",
    "    # Update state\n",
    "    state[\"is_blog_ready\"] = \"Pass\" if \"PASS\" in verdict else \"Fail\"\n",
    "    state[\"reviewed_content\"].append(AIMessage(\n",
    "        content=f\"Final Verdict: {state['is_blog_ready']}\\n{response.content}\"\n",
    "    ))\n",
    "    \n",
    "    return state\n",
    "\n",
    "def route_based_on_verdict(state: BlogState):\n",
    "    \"\"\"Conditional routing function\"\"\"\n",
    "    return \"Pass\" if state[\"is_blog_ready\"] == \"Pass\" else \"Fail\"\n",
    "\n",
    "\n",
    "\n",
    "def is_content_good(state: BlogState):\n",
    "    # Extract content from message history\n",
    "    main_content = \"\\n\".join(\n",
    "        [msg.content for msg in state[\"blog_content\"] if isinstance(msg, AIMessage)]\n",
    "    )\n",
    "    feedback_content = \"\\n\".join(\n",
    "        [msg.content for msg in state[\"reviewed_content\"] if isinstance(msg, HumanMessage)]\n",
    "    )\n",
    "\n",
    "    prompt = f\"\"\"Evaluate blog content against editorial feedback (Pass/Fail):\n",
    "    \n",
    "    Original Blog Content:\n",
    "    {main_content}\n",
    "\n",
    "    Editor Feedback:\n",
    "    {feedback_content}\n",
    "\n",
    "    Evaluation Criteria:\n",
    "    1. Coherent structure (logical flow between sections)\n",
    "    2. Grammar/mechanics (no errors in spelling/punctuation)\n",
    "    3. Brief compliance (matches topic: {state[\"topic\"]})\n",
    "    4. Engagement factors (storytelling, examples, hooks)\n",
    "    5. Formatting (proper headers, lists, whitespace)\n",
    "    6. Feedback addressed (revisions based on editor comments)\n",
    "\n",
    "    Final Verdict (Pass = meets all criteria, Fail = any major issues):\n",
    "    Answer only Pass or Fail:\"\"\"\n",
    "\n",
    "    # Get response content from AIMessage\n",
    "    response = llm.invoke(prompt)\n",
    "    verdict = response.content.strip().upper()  # Extract content before processing\n",
    "    \n",
    "    state[\"is_blog_ready\"] = \"Pass\" if \"PASS\" in verdict else \"Fail\"\n",
    "    \n",
    "    \n",
    "    return state"
   ]
  },
  {
   "cell_type": "code",
   "execution_count": 82,
   "metadata": {},
   "outputs": [
    {
     "data": {
      "image/png": "[encoded data removed]",
      "text/plain": [
       "<IPython.core.display.Image object>"
      ]
     },
     "metadata": {},
     "output_type": "display_data"
    }
   ],
   "source": [
    "from IPython.display import Image, display\n",
    "from langgraph.checkpoint.memory import MemorySaver\n",
    "from langgraph.graph import START, StateGraph, END\n",
    "from langgraph.prebuilt import tools_condition, ToolNode\n",
    "\n",
    "\n",
    "builder = StateGraph(BlogState)\n",
    "\n",
    "\n",
    "builder.add_node(\"title_generator\", generate_title)\n",
    "builder.add_node(\"content_generator\", generate_content)\n",
    "builder.add_node(\"content_reviewer\", review_content)\n",
    "builder.add_node(\"quality_check\", evaluate_content)  # New evaluation node\n",
    "\n",
    "builder.add_edge(START, \"title_generator\")\n",
    "builder.add_edge(\"title_generator\", \"content_generator\")\n",
    "builder.add_edge(\"content_generator\", \"content_reviewer\")\n",
    "builder.add_edge(\"content_reviewer\", \"quality_check\")\n",
    "\n",
    "# Add conditional edge after quality check\n",
    "builder.add_conditional_edges(\n",
    "    \"quality_check\",\n",
    "    route_based_on_verdict,\n",
    "    {\"Pass\": END, \"Fail\": \"content_generator\"}\n",
    ")\n",
    "\n",
    "graph = builder.compile()\n",
    "\n",
    "display(Image(graph.get_graph().draw_mermaid_png()))\n",
    "\n"
   ]
  },
  {
   "cell_type": "code",
   "execution_count": 83,
   "metadata": {},
   "outputs": [
    {
     "name": "stdout",
     "output_type": "stream",
     "text": [
      "\"Unlock Efficiency with Langgrah Orchestrator: Your Ultimate Workflow Solution\"\n",
      "[HumanMessage(content=\"### Unlock Efficiency with Langgrah Orchestrator: Your Ultimate Workflow Solution\\n\\nIn today’s fast-paced digital environment, every team is on the lookout for the tools that can streamline their processes, reduce redundancies, and boost productivity. Imagine a scenario where all your team’s tasks, from project management to data analysis, are seamlessly integrated and executed with maximum efficiency. Enter Langgrah Orchestrator, a sophisticated workflow management system designed to do exactly that. In this article, we will delve into how Langgrah Orchestrator can revolutionize your team’s workflow and make your daily operations smoother, more organized, and more efficient.\\n\\n### How Langgrah Orchestrator Works\\n\\nAt its core, Langgrah Orchestrator is a workflow automation tool that integrates with various applications and services to automate repetitive and time-consuming tasks. It leverages the power of workflow management to create a seamless, end-to-end process that spans across different applications and teams. Essentially, Langgrah Orchestrator acts as the conductor of your digital orchestra, ensuring that each instrument (or in this case, each task) plays its part at the right time and in harmony with others.\\n\\nThe system works by first mapping out the workflow - from the initial trigger to the final output. This can include anything from a new customer inquiry to a finalized report. Once the workflow is defined, Langgrah Orchestrator automates the execution of each step, ensuring that data is transferred between different applications, notifications are sent out, and tasks are completed without human intervention, thereby reducing the likelihood of errors and increasing the speed of execution.\\n\\nBy integrating with a wide range of applications (from CRM systems to data analysis tools), Langgrah Orchestrator makes it possible for teams to work in a more integrated and efficient manner. This integration capability is one of the key strengths of Langgrah Orchestrator, as it allows for a holistic approach to workflow management.\\n\\n### Enhancing Collaboration and Transparency\\n\\nOne of the most critical benefits of implementing Langgrah Orchestrator in your workflow is the significant improvement in collaboration and transparency among team members. Gone are the days when project updates were communicated via scattered emails or lengthy meetings. With Langgrah Orchestrator, every task and its status are clearly visible to everyone involved in the project.\\n\\nThis transparency fosters a culture of accountability and trust. Team members can easily see who is responsible for what and the progress being made, which helps in identifying bottlenecks and addressing them promptly. The platform’s real-time updates ensure that everyone is always on the same page, reducing the chances of miscommunication and missed deadlines.\\n\\nFor example, in a marketing team, when a campaign is launched, all relevant tasks – from content creation to social media posts to reporting – can be tracked and managed within Langgrah Orchestrator. This means a content writer can update their progress, and the social media manager can see exactly when to schedule the posts. This visibility ensures that all parts of the campaign are moving in sync, enhancing overall efficiency and effectiveness.\\n\\n### Streamlining Processes for Increased Efficiency\\n\\nEfficiency is at the heart of Langgrah Orchestrator's philosophy. By automating tasks that would otherwise require manual intervention, the system reduces the time and resources needed to complete workflows. For instance, in customer service scenarios, Langgrah Orchestrator can automatically route customer inquiries to the appropriate department based on predefined criteria, ensuring a faster response time and higher customer satisfaction.\\n\\nIn a study conducted with companies using Langgrah Orchestrator, there was a reported 45% increase in task completion speed and a 30% reduction in operational costs. These figures highlight the significant impact that automating and orchestrating workflows can have on a company’s bottom line.\\n\\nMoreover, Langgrah Orchestrator’s ability to integrate with a variety of tools and platforms means that it can be tailored to fit the unique needs of different departments within an organization. This flexibility ensures that each part of the business can leverage the system’s capabilities to enhance its workflow, leading to a more cohesive and efficient operation as a whole.\\n\\n### Enhancing Data Management and Analysis\\n\\nIn the age of big data, managing and analyzing large volumes of information is crucial for making informed decisions. Langgrah Orchestrator not only helps in automating the data collection process but also integrates with powerful data analysis tools to provide insights that might otherwise be missed. This integration allows for real-time data analysis and reporting, giving teams a clear picture of where they stand and what adjustments might be necessary.\\n\\nConsider a scenario in a financial services firm where daily transactions need to be monitored for compliance. Langgrah Orchestrator can automatically collect transaction data, cleanse it for accuracy, and flag any discrepancies for manual review. This process not only speeds up compliance checks but also reduces the risk of human error in data handling. By automating such routine but critical tasks, Langgrah Orchestrator ensures that teams can focus on more strategic activities that require human creativity and decision-making.\\n\\n### Implementing Langgrah Orchestrator: A Step-by-Step Guide\\n\\nImplementing Langgrah Orchestrator into your current workflow might seem daunting, but with a structured approach, it can be a seamless transition. The first step is to assess your current processes and identify areas that would benefit most from automation. This could be anything from manual data entry tasks to complex project management processes.\\n\\nNext, map out the workflows that Langgrah Orchestrator will handle, ensuring that every step, from the trigger event to the final output, is clear and well-defined. Collaboration with all stakeholders is key during this phase to ensure everyone’s needs and concerns are addressed.\\n\\nOnce the workflows are defined, it’s time to configure Langgrah Orchestrator to execute these workflows. This involves setting up integrations with other applications, such as CRMs or data analysis tools, and defining the automation logic that will govern the workflow execution.\\n\\nThroughout the implementation, ongoing monitoring and optimization are essential. Continuously evaluating the performance of the automated workflows and making adjustments as necessary will ensure that Langgrah Orchestrator delivers maximum value.\\n\\n### Conclusion: Embrace the Future with Langgrah Orchestrator\\n\\nAs we reach the conclusion of this exploration into Langgrah Orchestrator, it becomes evident that this tool is not just a solution for improving efficiency but a cornerstone for fostering a culture of collaboration and innovation. In a world where agility and adaptability are paramount, Langgrah Orchestrator equips teams with the tools needed to navigate the complexities of modern work environments with ease.\\n\\nBy implementing Langgrah Orchestrator, your team can enjoy a more streamlined workflow, increased transparency, and a significant boost in productivity. The initial investment in time and effort to set up the system is quickly recovered through the savings in operational costs and the time freed up for more strategic, value-adding activities.\\n\\nNow is the time to take the first step towards a more efficient and collaborative future. Start by evaluating your workflow processes and identifying where Langgrah Orchestrator can make the biggest impact. With its robust capabilities and user-friendly interface, transitioning your operations to Langgrah Orchestrator is a decision that can transform your team’s workflow dynamics and propel your organization towards greater success and innovation.\", additional_kwargs={}, response_metadata={}, id='8fe83883-b3af-4a57-91a7-9e8d33e1484b')]\n",
      "[HumanMessage(content='**Critical Review of Blog Content: Langgrah Orchestrator**\\n\\n**Clarity & Structure (8/10)**\\n- The content is generally well-structured, with clear sections dedicated to different aspects of Langgrah Orchestrator: its functionalities, benefits, and implementation process.\\n- The title and subheadings are informative and provide a good overview of what to expect in each section.\\n- A suggestion for improvement could be to include a brief introduction at the beginning of each section to smoothly transition from one topic to the next and to reiterate the relevance of the content to the reader\\'s interest in workflow automation.\\n\\n**Grammar & Style (8.5/10)**\\n- The writing is generally clear and free of grammatical errors, which aids in maintaining readability.\\n- The style is professional and matches the subject matter well. However, the use of metaphors like \"digital orchestra\" and \"conductor\" is somewhat abstract and might require clarification for readers unfamiliar with the concept of workflow management. Simplifying these metaphors or providing concrete examples could enhance understanding.\\n- Minor improvements can be made in sentence structure for smoother flow. For example, breaking longer sentences into shorter ones could make the content easier to digest.\\n\\n**SEO Optimization (7/10)**\\n- The blog does a good job of including relevant keywords such as \"workflow management,\" \"automation tool,\" and \"workflow automation,\" which are critical for SEO.\\n- However, the article can benefit from more specific keyword targeting. For instance, incorporating terms like \"workflow automation software,\" \"workflow management system,\" and \"workplace automation\" could attract a broader audience.\\n- Including a more detailed introduction that explicitly mentions the specific problems Langgrah Orchestrator solves and how it stands out among competitors could improve SEO. Additionally, the conclusion could reiterate these points for better keyword optimization.\\n\\n**Reader Engagement (8/10)**\\n- The content is engaging and does a good job of explaining how Langgrah Orchestrator can benefit different teams and industries through the use of practical examples and case studies.\\n- The inclusion of a step-by-step guide for implementation adds practical value to the reader.\\n- To further enhance engagement, consider adding a section on customer testimonials or success stories to build trust and credibility.\\n- Interactive elements such as videos or infographics could also make the content more engaging and memorable.\\n\\n**Overall Rating (7.75/10)**\\nThe article provides a comprehensive overview of Langgrah Orchestrator, showcasing its features and benefits effectively. However, there is room for improvement in SEO optimization and the refinement of certain stylistic elements to enhance clarity and engagement further.\\n\\n**Improvement Suggestions:**\\n- **SEO Enhancements:** Expand the use of specific keywords related to workflow automation, and structure the content to include meta descriptions and headers (H1, H2, etc.) that include targeted keywords.\\n- **Stylistic Refinements:** Simplify complex concepts with more relatable and straightforward examples. Incorporate more direct and impactful language to stimulate action.\\n- **Engagement Boost:** Integrate multimedia content and user testimonials to provide diverse forms of engagement and reinforce the product\\'s value through real-world applications.', additional_kwargs={}, response_metadata={}, id='aaf25087-8806-40c9-9fe5-658a74970ba9'), AIMessage(content='Final Verdict: Pass\\nPass\\n\\nThe blog content meets the evaluation criteria as it has a coherent structure with a logical flow between sections, no obvious errors in grammar or mechanics, and it is brief and compliant with the topic of Langgrah Orchestrator. The content includes engagement factors like practical examples and a step-by-step guide, and it follows appropriate formatting with headers. While there are suggestions for improvement based on the editorial feedback, the overall content sufficiently addresses the criteria without any major issues that would lead to a fail.', additional_kwargs={}, response_metadata={}, id='978cd02a-ed0a-4d8b-a848-68761edb739c')]\n",
      "Pass\n"
     ]
    }
   ],
   "source": [
    "state = graph.invoke({\"topic\": \"Langgrah Orchestrator\"})\n",
    "print(state[\"title\"])\n",
    "print(state[\"blog_content\"])\n",
    "print(state[\"reviewed_content\"])\n",
    "print(state[\"is_blog_ready\"])\n",
    "\n"
   ]
  },
  {
   "cell_type": "code",
   "execution_count": null,
   "metadata": {},
   "outputs": [],
   "source": []
  }
 ],
 "metadata": {
  "kernelspec": {
   "display_name": "Python 3",
   "language": "python",
   "name": "python3"
  },
  "language_info": {
   "codemirror_mode": {
    "name": "ipython",
    "version": 3
   },
   "file_extension": ".py",
   "mimetype": "text/x-python",
   "name": "python",
   "nbconvert_exporter": "python",
   "pygments_lexer": "ipython3",
   "version": "3.12.0"
  }
 },
 "nbformat": 4,
 "nbformat_minor": 2
}
